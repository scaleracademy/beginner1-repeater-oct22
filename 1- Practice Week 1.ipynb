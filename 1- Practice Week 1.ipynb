{
 "cells": [
  {
   "cell_type": "code",
   "execution_count": 1,
   "id": "4c5e95d8",
   "metadata": {},
   "outputs": [
    {
     "data": {
      "text/plain": [
       "'\\nQuestion 1 - \\nWhich of the following will print the following pattern - \\n**\\n***\\n****\\n'"
      ]
     },
     "execution_count": 1,
     "metadata": {},
     "output_type": "execute_result"
    }
   ],
   "source": [
    "'''\n",
    "Question 1 - \n",
    "Which of the following will print the following pattern - \n",
    "**\n",
    "***\n",
    "****\n",
    "'''"
   ]
  },
  {
   "cell_type": "code",
   "execution_count": 5,
   "id": "8547b396",
   "metadata": {},
   "outputs": [
    {
     "name": "stdout",
     "output_type": "stream",
     "text": [
      "**\n",
      "***\n",
      "****\n"
     ]
    }
   ],
   "source": [
    "# Code 1\n",
    "print(\"**\\n***\\n****\") # \\n represents new line in python strings"
   ]
  },
  {
   "cell_type": "code",
   "execution_count": 6,
   "id": "c51d17cb",
   "metadata": {},
   "outputs": [
    {
     "name": "stdout",
     "output_type": "stream",
     "text": [
      "this is something\n",
      "this is something else\n"
     ]
    }
   ],
   "source": [
    "print(\"this is something\\nthis is something else\")"
   ]
  },
  {
   "cell_type": "code",
   "execution_count": 10,
   "id": "bdf0c384",
   "metadata": {},
   "outputs": [
    {
     "name": "stdout",
     "output_type": "stream",
     "text": [
      "**\n",
      "***\n",
      "****\n"
     ]
    }
   ],
   "source": [
    "# Code 2\n",
    "print(\"**\", \"***\", \"****\", sep = \"\\n\")"
   ]
  },
  {
   "cell_type": "code",
   "execution_count": 12,
   "id": "eac8d129",
   "metadata": {},
   "outputs": [
    {
     "name": "stdout",
     "output_type": "stream",
     "text": [
      "**\n",
      "***\n",
      "****\n"
     ]
    }
   ],
   "source": [
    "# Code 3\n",
    "print(\"*\"*2) # \\n is the end value by default\n",
    "print(\"*\"*3)\n",
    "print(\"*\"*4)"
   ]
  },
  {
   "cell_type": "code",
   "execution_count": 13,
   "id": "cf5462eb",
   "metadata": {},
   "outputs": [
    {
     "data": {
      "text/plain": [
       "'randomrandomrandom'"
      ]
     },
     "execution_count": 13,
     "metadata": {},
     "output_type": "execute_result"
    }
   ],
   "source": [
    "\"random\"*3"
   ]
  },
  {
   "cell_type": "code",
   "execution_count": 14,
   "id": "822ba0e3",
   "metadata": {},
   "outputs": [
    {
     "name": "stdout",
     "output_type": "stream",
     "text": [
      "** *** **** "
     ]
    }
   ],
   "source": [
    "# Code 4\n",
    "print(\"*\"*2, end = \" \")\n",
    "print(\"*\"*3, end = \" \")\n",
    "print(\"*\"*4, end = \" \")"
   ]
  },
  {
   "cell_type": "code",
   "execution_count": 16,
   "id": "25c47e74",
   "metadata": {},
   "outputs": [
    {
     "name": "stdout",
     "output_type": "stream",
     "text": [
      "printing something printing something else\n"
     ]
    }
   ],
   "source": [
    "print(\"printing something\", end = \" \")\n",
    "print(\"printing something else\")"
   ]
  },
  {
   "cell_type": "code",
   "execution_count": 17,
   "id": "5ca32cfb",
   "metadata": {},
   "outputs": [
    {
     "data": {
      "text/plain": [
       "'\\nQuestion 2 - \\nWrite a program which concatenates two strings with a $ in between.\\n\\n-> \"random\", \"random2\"\\n-> \"random$random2\"\\n'"
      ]
     },
     "execution_count": 17,
     "metadata": {},
     "output_type": "execute_result"
    }
   ],
   "source": [
    "'''\n",
    "Question 2 - \n",
    "Write a program which concatenates two strings with a $ in between.\n",
    "\n",
    "-> \"random\", \"random2\"\n",
    "-> \"random$random2\"\n",
    "'''"
   ]
  },
  {
   "cell_type": "code",
   "execution_count": 18,
   "id": "d420be97",
   "metadata": {},
   "outputs": [
    {
     "name": "stdout",
     "output_type": "stream",
     "text": [
      "first$second\n"
     ]
    }
   ],
   "source": [
    "s1 = \"first\"\n",
    "s2 = \"second\"\n",
    "\n",
    "print(s1 + \"$\" + s2)"
   ]
  },
  {
   "cell_type": "code",
   "execution_count": 19,
   "id": "7a056fec",
   "metadata": {},
   "outputs": [],
   "source": [
    "s3 = s1 + \"$\" + s2"
   ]
  },
  {
   "cell_type": "code",
   "execution_count": 20,
   "id": "f6708836",
   "metadata": {},
   "outputs": [
    {
     "data": {
      "text/plain": [
       "'first$second'"
      ]
     },
     "execution_count": 20,
     "metadata": {},
     "output_type": "execute_result"
    }
   ],
   "source": [
    "s3"
   ]
  },
  {
   "cell_type": "code",
   "execution_count": 22,
   "id": "80e34efe",
   "metadata": {},
   "outputs": [
    {
     "data": {
      "text/plain": [
       "'string1string2random'"
      ]
     },
     "execution_count": 22,
     "metadata": {},
     "output_type": "execute_result"
    }
   ],
   "source": [
    "\"string1\" + \"string2\" + \"random\""
   ]
  },
  {
   "cell_type": "code",
   "execution_count": 23,
   "id": "55fb32e4",
   "metadata": {},
   "outputs": [
    {
     "data": {
      "text/plain": [
       "\"\\nQuestion 3 - \\nThanos wiped 50% of the world's population. \\nTony Stark wabted to find out which people were wiped.\\nHe found a simple correlation ->\\nIf you remove last two digits of any mobile number -\\n1. The result is even -> person was wiped (True)\\n2. The reuslt is odd -> person survived (False)\\n\\nINPUT -\\n9999234522\\n\\nEXPLANATION - \\n99992345 -> If this number is even or odd\\n\\nOUTPUT - False\\n\""
      ]
     },
     "execution_count": 23,
     "metadata": {},
     "output_type": "execute_result"
    }
   ],
   "source": [
    "'''\n",
    "Question 3 - \n",
    "Thanos wiped 50% of the world's population. \n",
    "Tony Stark wabted to find out which people were wiped.\n",
    "He found a simple correlation ->\n",
    "If you remove last two digits of any mobile number -\n",
    "1. The result is even -> person was wiped (True)\n",
    "2. The reuslt is odd -> person survived (False)\n",
    "\n",
    "INPUT -\n",
    "9999234522\n",
    "\n",
    "EXPLANATION - \n",
    "99992345 -> If this number is even or odd\n",
    "\n",
    "OUTPUT - False\n",
    "'''"
   ]
  },
  {
   "cell_type": "code",
   "execution_count": 24,
   "id": "a2f0be13",
   "metadata": {},
   "outputs": [
    {
     "data": {
      "text/plain": [
       "567"
      ]
     },
     "execution_count": 24,
     "metadata": {},
     "output_type": "execute_result"
    }
   ],
   "source": [
    "5678 // 10"
   ]
  },
  {
   "cell_type": "code",
   "execution_count": 25,
   "id": "fe25880b",
   "metadata": {},
   "outputs": [
    {
     "data": {
      "text/plain": [
       "56"
      ]
     },
     "execution_count": 25,
     "metadata": {},
     "output_type": "execute_result"
    }
   ],
   "source": [
    "5678 // 100"
   ]
  },
  {
   "cell_type": "code",
   "execution_count": 47,
   "id": "f9db096e",
   "metadata": {},
   "outputs": [],
   "source": [
    "number = 9999234422\n",
    "\n",
    "truncated_number = number // 100"
   ]
  },
  {
   "cell_type": "code",
   "execution_count": 48,
   "id": "284e64cf",
   "metadata": {},
   "outputs": [
    {
     "data": {
      "text/plain": [
       "99992344"
      ]
     },
     "execution_count": 48,
     "metadata": {},
     "output_type": "execute_result"
    }
   ],
   "source": [
    "truncated_number"
   ]
  },
  {
   "cell_type": "code",
   "execution_count": 52,
   "id": "9d82f0af",
   "metadata": {},
   "outputs": [
    {
     "name": "stdout",
     "output_type": "stream",
     "text": [
      "True\n"
     ]
    }
   ],
   "source": [
    "# Using if\n",
    "if truncated_number % 2 == 0:\n",
    "    print(True)\n",
    "else:\n",
    "    print(False)"
   ]
  },
  {
   "cell_type": "code",
   "execution_count": 49,
   "id": "fb6647c8",
   "metadata": {},
   "outputs": [],
   "source": [
    "result = truncated_number % 2\n",
    "# even number -> 0\n",
    "# odd number -> 1"
   ]
  },
  {
   "cell_type": "code",
   "execution_count": 50,
   "id": "73ca9de5",
   "metadata": {},
   "outputs": [],
   "source": [
    "final_result = not bool(result)"
   ]
  },
  {
   "cell_type": "code",
   "execution_count": 51,
   "id": "fb32684e",
   "metadata": {},
   "outputs": [
    {
     "data": {
      "text/plain": [
       "True"
      ]
     },
     "execution_count": 51,
     "metadata": {},
     "output_type": "execute_result"
    }
   ],
   "source": [
    "final_result"
   ]
  },
  {
   "cell_type": "code",
   "execution_count": 34,
   "id": "eb60b9a5",
   "metadata": {},
   "outputs": [
    {
     "data": {
      "text/plain": [
       "1"
      ]
     },
     "execution_count": 34,
     "metadata": {},
     "output_type": "execute_result"
    }
   ],
   "source": [
    "result"
   ]
  },
  {
   "cell_type": "code",
   "execution_count": 35,
   "id": "42b2ea5b",
   "metadata": {},
   "outputs": [
    {
     "data": {
      "text/plain": [
       "True"
      ]
     },
     "execution_count": 35,
     "metadata": {},
     "output_type": "execute_result"
    }
   ],
   "source": [
    "bool(1)"
   ]
  },
  {
   "cell_type": "code",
   "execution_count": 36,
   "id": "9c363b9f",
   "metadata": {},
   "outputs": [
    {
     "data": {
      "text/plain": [
       "False"
      ]
     },
     "execution_count": 36,
     "metadata": {},
     "output_type": "execute_result"
    }
   ],
   "source": [
    "bool(0)"
   ]
  },
  {
   "cell_type": "code",
   "execution_count": 29,
   "id": "5840e906",
   "metadata": {},
   "outputs": [
    {
     "data": {
      "text/plain": [
       "1"
      ]
     },
     "execution_count": 29,
     "metadata": {},
     "output_type": "execute_result"
    }
   ],
   "source": [
    "5 % 2"
   ]
  },
  {
   "cell_type": "code",
   "execution_count": 30,
   "id": "83f629ae",
   "metadata": {},
   "outputs": [
    {
     "data": {
      "text/plain": [
       "0"
      ]
     },
     "execution_count": 30,
     "metadata": {},
     "output_type": "execute_result"
    }
   ],
   "source": [
    "6 % 2"
   ]
  },
  {
   "cell_type": "code",
   "execution_count": 31,
   "id": "93a2071e",
   "metadata": {},
   "outputs": [
    {
     "data": {
      "text/plain": [
       "1"
      ]
     },
     "execution_count": 31,
     "metadata": {},
     "output_type": "execute_result"
    }
   ],
   "source": [
    "10 % 3"
   ]
  },
  {
   "cell_type": "code",
   "execution_count": 32,
   "id": "46764a6f",
   "metadata": {},
   "outputs": [
    {
     "data": {
      "text/plain": [
       "2"
      ]
     },
     "execution_count": 32,
     "metadata": {},
     "output_type": "execute_result"
    }
   ],
   "source": [
    "10 % 4"
   ]
  },
  {
   "cell_type": "code",
   "execution_count": 53,
   "id": "4e0dc13b",
   "metadata": {},
   "outputs": [
    {
     "name": "stdout",
     "output_type": "stream",
     "text": [
      "11\n"
     ]
    }
   ],
   "source": [
    "print(5+6)"
   ]
  },
  {
   "cell_type": "code",
   "execution_count": 54,
   "id": "d03c460a",
   "metadata": {},
   "outputs": [
    {
     "data": {
      "text/plain": [
       "'\\nQuestion 4 - \\na = 10\\nb = a + 5\\na += 5\\n\\nprint(id(a) == id(b))\\n'"
      ]
     },
     "execution_count": 54,
     "metadata": {},
     "output_type": "execute_result"
    }
   ],
   "source": [
    "'''\n",
    "Question 4 - \n",
    "a = 10\n",
    "b = a + 5\n",
    "a += 5\n",
    "\n",
    "print(id(a) == id(b))\n",
    "'''"
   ]
  },
  {
   "cell_type": "code",
   "execution_count": 55,
   "id": "20261ad6",
   "metadata": {},
   "outputs": [],
   "source": [
    "x = 30"
   ]
  },
  {
   "cell_type": "code",
   "execution_count": 56,
   "id": "b7db3fd0",
   "metadata": {},
   "outputs": [
    {
     "data": {
      "text/plain": [
       "140608102526160"
      ]
     },
     "execution_count": 56,
     "metadata": {},
     "output_type": "execute_result"
    }
   ],
   "source": [
    "id(x)"
   ]
  },
  {
   "cell_type": "code",
   "execution_count": 58,
   "id": "a901e867",
   "metadata": {},
   "outputs": [],
   "source": [
    "a = 6"
   ]
  },
  {
   "cell_type": "code",
   "execution_count": 59,
   "id": "efbf2486",
   "metadata": {},
   "outputs": [],
   "source": [
    "a -= 5"
   ]
  },
  {
   "cell_type": "code",
   "execution_count": 60,
   "id": "0a62fa07",
   "metadata": {},
   "outputs": [],
   "source": [
    "a //= 5"
   ]
  },
  {
   "cell_type": "code",
   "execution_count": 61,
   "id": "d5d7e1d2",
   "metadata": {},
   "outputs": [],
   "source": [
    "a *= 5"
   ]
  },
  {
   "cell_type": "code",
   "execution_count": 57,
   "id": "055d0f36",
   "metadata": {},
   "outputs": [
    {
     "name": "stdout",
     "output_type": "stream",
     "text": [
      "True\n"
     ]
    }
   ],
   "source": [
    "a = 10\n",
    "b = a + 5\n",
    "a += 5 # a = a + 5\n",
    "\n",
    "print(id(a) == id(b))"
   ]
  },
  {
   "cell_type": "code",
   "execution_count": 65,
   "id": "dbf89e4e",
   "metadata": {},
   "outputs": [
    {
     "data": {
      "text/plain": [
       "'\\nQuestion 5 - \\nA bacteria can grow 2 times its original volume at every time step.\\nIf the initial volume is 1 and number of time steps is T.\\nWhat is the volume of bacteria after T time steps.\\n'"
      ]
     },
     "execution_count": 65,
     "metadata": {},
     "output_type": "execute_result"
    }
   ],
   "source": [
    "'''\n",
    "Question 5 - \n",
    "A bacteria can grow 2 times its original volume at every time step.\n",
    "If the initial volume is 1 and number of time steps is T.\n",
    "What is the volume of bacteria after T time steps.\n",
    "'''"
   ]
  },
  {
   "cell_type": "code",
   "execution_count": 66,
   "id": "ab4af299",
   "metadata": {},
   "outputs": [],
   "source": [
    "# 1*2*2*2*2*2*2 -> 6 time steps -> multiply by 2, 6 times"
   ]
  },
  {
   "cell_type": "code",
   "execution_count": 67,
   "id": "b8c64b61",
   "metadata": {},
   "outputs": [],
   "source": [
    "T = 5\n",
    "volume = 2 ** T"
   ]
  },
  {
   "cell_type": "code",
   "execution_count": 68,
   "id": "c30a5544",
   "metadata": {},
   "outputs": [
    {
     "data": {
      "text/plain": [
       "32"
      ]
     },
     "execution_count": 68,
     "metadata": {},
     "output_type": "execute_result"
    }
   ],
   "source": [
    "volume"
   ]
  },
  {
   "cell_type": "code",
   "execution_count": 71,
   "id": "d90c20f4",
   "metadata": {},
   "outputs": [
    {
     "data": {
      "text/plain": [
       "'\\nQuestion 6 - \\na = True\\nb = 7 - a\\n\\nWhat is the output?\\n'"
      ]
     },
     "execution_count": 71,
     "metadata": {},
     "output_type": "execute_result"
    }
   ],
   "source": [
    "'''\n",
    "Question 6 - \n",
    "a = True\n",
    "b = 7 - a\n",
    "\n",
    "What is the output?\n",
    "'''"
   ]
  },
  {
   "cell_type": "code",
   "execution_count": 72,
   "id": "94496d34",
   "metadata": {},
   "outputs": [],
   "source": [
    "a = True\n",
    "b = 7 - a"
   ]
  },
  {
   "cell_type": "code",
   "execution_count": 73,
   "id": "564f6b4f",
   "metadata": {},
   "outputs": [
    {
     "data": {
      "text/plain": [
       "6"
      ]
     },
     "execution_count": 73,
     "metadata": {},
     "output_type": "execute_result"
    }
   ],
   "source": [
    "b"
   ]
  },
  {
   "cell_type": "code",
   "execution_count": null,
   "id": "c83d8936",
   "metadata": {},
   "outputs": [],
   "source": []
  }
 ],
 "metadata": {
  "kernelspec": {
   "display_name": "Python 3 (ipykernel)",
   "language": "python",
   "name": "python3"
  },
  "language_info": {
   "codemirror_mode": {
    "name": "ipython",
    "version": 3
   },
   "file_extension": ".py",
   "mimetype": "text/x-python",
   "name": "python",
   "nbconvert_exporter": "python",
   "pygments_lexer": "ipython3",
   "version": "3.9.5"
  }
 },
 "nbformat": 4,
 "nbformat_minor": 5
}
